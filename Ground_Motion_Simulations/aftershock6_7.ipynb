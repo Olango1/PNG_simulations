{
 "cells": [
  {
   "cell_type": "code",
   "execution_count": null,
   "id": "9095990a",
   "metadata": {},
   "outputs": [],
   "source": [
    "# import libraries\n",
    "%matplotlib inline\n",
    "import os\n",
    "import pathlib\n",
    "import salvus.namespace as sn\n",
    "\n",
    "import more_itertools\n",
    "import salvus.mesh.layered_meshing as lm"
   ]
  },
  {
   "cell_type": "code",
   "execution_count": null,
   "id": "a12ab273",
   "metadata": {},
   "outputs": [],
   "source": [
    "\n",
    "# remote site to run the simulation on.\n",
    "SALVUS_FLOW_SITE_NAME = os.environ.get(\"SITE_NAME\", \"nightly\")\n",
    "PROJECT_DIR = \"aftershock67\""
   ]
  },
  {
   "cell_type": "code",
   "execution_count": null,
   "id": "7298adc3",
   "metadata": {},
   "outputs": [],
   "source": [
    "# Creating the domain\n",
    "d = sn.domain.dim3.UtmDomain.from_spherical_chunk(\n",
    "    min_latitude=-5.0,\n",
    "    max_latitude=-7.0,\n",
    "    min_longitude=141.0,\n",
    "    max_longitude=144.0,\n",
    ")\n",
    "\n",
    "# Have a look at the domain to make sure it is correct.\n",
    "d.plot()"
   ]
  },
  {
   "cell_type": "code",
   "execution_count": null,
   "id": "748d2255",
   "metadata": {},
   "outputs": [],
   "source": [
    "# Where to download topography data to.\n",
    "topo_filename = \"gmrt_topography.nc\"\n",
    "\n",
    "# Query data from the GMRT web service.\n",
    "if not os.path.exists(topo_filename):\n",
    "    d.download_topography_and_bathymetry(\n",
    "        filename=topo_filename,\n",
    "        # The buffer is useful for example when adding sponge layers\n",
    "        # for absorbing boundaries so we recommend to always use it.\n",
    "        buffer_in_degrees=0.1,\n",
    "        resolution=\"default\",\n",
    "    )"
   ]
  },
  {
   "cell_type": "code",
   "execution_count": null,
   "id": "072b3371",
   "metadata": {},
   "outputs": [],
   "source": [
    "# Data is loaded to Salvus compatible SurfaceTopography object. It will resample\n",
    "# to a regular grid and convert to the UTM coordinates of the domain.\n",
    "# This will later be added to the Salvus project.\n",
    "# t = sn.topography.cartesian.SurfaceTopography.from_gmrt_file(\n",
    "#     name=\"png_topo\",\n",
    "#     data='flat_topo.nc',\n",
    "#     resample_topo_nx=200,\n",
    "#     # If the coordinate conversion is very slow, consider decimating.\n",
    "#     decimate_topo_factor=5,\n",
    "#     # Smooth if necessary.\n",
    "#     gaussian_std_in_meters=0.0,\n",
    "#     # Make sure to pass the correct UTM zone.\n",
    "#     utm=d.utm,\n",
    "# )\n",
    "\n",
    "t1 = sn.topography.cartesian.SurfaceTopography.from_gmrt_file(\n",
    "    name=\"png1_topo\",\n",
    "    data=topo_filename,\n",
    "    resample_topo_nx=200,\n",
    "    # If the coordinate conversion is very slow, consider decimating.\n",
    "    decimate_topo_factor=5,\n",
    "    # Smooth if necessary.\n",
    "    gaussian_std_in_meters=0.0,\n",
    "    # Make sure to pass the correct UTM zone.\n",
    "    utm=d.utm,\n",
    ")\n",
    "\n",
    "t2 = sn.topography.cartesian.SurfaceTopography.from_gmrt_file(\n",
    "    name=\"small_avg1\",\n",
    "    data=topo_filename,\n",
    "    resample_topo_nx=500,\n",
    "    # If the coordinate conversion is very slow, consider decimating.\n",
    "    decimate_topo_factor=5,\n",
    "    # Smooth if necessary.\n",
    "    gaussian_std_in_meters=10000.0,\n",
    "    # Make sure to pass the correct UTM zone.\n",
    "    utm=d.utm,\n",
    ")"
   ]
  },
  {
   "cell_type": "code",
   "execution_count": null,
   "id": "9a998e3e",
   "metadata": {
    "lines_to_next_cell": 2
   },
   "outputs": [],
   "source": [
    "# visualize topography\n",
    "t2.ds.dem.T.plot(aspect=1, size=7)\n",
    "t1.ds.dem.T.plot(aspect=1, size=7)"
   ]
  },
  {
   "cell_type": "code",
   "execution_count": null,
   "id": "09ef6474",
   "metadata": {},
   "outputs": [],
   "source": [
    "_dem = (t1.ds.dem - t1.ds.dem.max()).assign_attrs(\n",
    "    {\"ref\": float(t1.ds.dem.max())}\n",
    ")\n",
    "dem = _dem.copy(data=_dem)\n",
    "\n",
    "_dem1 = (t2.ds.dem - t2.ds.dem.max()).assign_attrs(\n",
    "    {\"ref\": float(t2.ds.dem.max())}\n",
    ")\n",
    "dem1 = _dem1.copy(data=_dem1)"
   ]
  },
  {
   "cell_type": "markdown",
   "id": "df1d6399",
   "metadata": {},
   "source": [
    "@emerald: below here i've translated your BM file into Salvus' layered meshing format. Soon you will be able to create a layered model directly from a BM file as well. Notice how the models and interfaces I am passing are in a top-down order.\n",
    "\n",
    "For the \"interface topo\" below, notice how I am specifying the \"thin\" near-surface layers with reference to the surface topography itself. This was one of the problems before: The peak-to-peak amplitude of the topography was larger than the layer thickness, causing layers to cross and producing indefinite jacobians."
   ]
  },
  {
   "cell_type": "code",
   "execution_count": null,
   "id": "46517327",
   "metadata": {},
   "outputs": [],
   "source": [
    "materials = [\n",
    "    # lm.material.elastic.Velocity.from_params(vp=3800.0, vs=2400.0, rho=2360.0),\n",
    "    lm.material.elastic.Velocity.from_params(vp=3800.0, vs=2400.0, rho=2360.0),\n",
    "    lm.material.elastic.Velocity.from_params(vp=5400.0, vs=3400.0, rho=2720.0),\n",
    "    lm.material.elastic.Velocity.from_params(vp=6000.0, vs=3600.0, rho=2740.0),\n",
    "    lm.material.elastic.Velocity.from_params(vp=6200.0, vs=3800.0, rho=2760.0),\n",
    "    lm.material.elastic.Velocity.from_params(vp=8000.0, vs=4400.0, rho=3290.0),\n",
    "]\n",
    "\n",
    "# interfaces_flat = [\n",
    "#     lm.interface.Hyperplane.at(dem.ref),\n",
    "#     # lm.interface.Hyperplane.at(dem.ref - 1_000.0),\n",
    "#     lm.interface.Hyperplane.at(dem.ref - 3_000.0),\n",
    "#     lm.interface.Hyperplane.at(dem.ref - 10_000.0),\n",
    "#     lm.interface.Hyperplane.at(dem.ref - 20_000.0),\n",
    "#     lm.interface.Hyperplane.at(dem.ref - 45_000.0),\n",
    "#     lm.interface.Hyperplane.at(dem.ref - 50_000.0),\n",
    "# ]\n",
    "\n",
    "interfaces_flat = [\n",
    "    lm.interface.Surface(dem1),\n",
    "    # lm.interface.Surface(dem.assign_attrs({\"ref\": dem.ref - 1000.0})),\n",
    "    lm.interface.Surface(dem1.assign_attrs({\"ref\": dem1.ref - 3000.0})),\n",
    "    lm.interface.Hyperplane.at(dem.ref - 10_000.0),\n",
    "    lm.interface.Hyperplane.at(dem.ref - 20_000.0),\n",
    "    lm.interface.Hyperplane.at(dem.ref - 45_000.0),\n",
    "    lm.interface.Hyperplane.at(dem.ref - 60_000.0),\n",
    "]\n",
    "\n",
    "interfaces_topo = [\n",
    "    lm.interface.Surface(dem),\n",
    "    # lm.interface.Surface(dem.assign_attrs({\"ref\": dem.ref - 1000.0})),\n",
    "    lm.interface.Surface(dem.assign_attrs({\"ref\": dem.ref - 3000.0})),\n",
    "    lm.interface.Hyperplane.at(dem.ref - 10_000.0),\n",
    "    lm.interface.Hyperplane.at(dem.ref - 20_000.0),\n",
    "    lm.interface.Hyperplane.at(dem.ref - 45_000.0),\n",
    "    lm.interface.Hyperplane.at(dem.ref - 60_000.0),\n",
    "]"
   ]
  },
  {
   "cell_type": "code",
   "execution_count": null,
   "id": "30b3fac6",
   "metadata": {},
   "outputs": [],
   "source": [
    "layered_model_flat = lm.LayeredModel(\n",
    "    list(more_itertools.interleave_longest(interfaces_flat, materials))\n",
    ")\n",
    "layered_model_topo = lm.LayeredModel(\n",
    "    list(more_itertools.interleave_longest(interfaces_topo, materials))\n",
    ")"
   ]
  },
  {
   "cell_type": "code",
   "execution_count": null,
   "id": "8c077f29",
   "metadata": {},
   "outputs": [],
   "source": [
    "mr = sn.MeshResolution(\n",
    "    reference_frequency=1.0, elements_per_wavelength=1.5, model_order=2\n",
    ")"
   ]
  },
  {
   "cell_type": "code",
   "execution_count": null,
   "id": "ecdac66d",
   "metadata": {},
   "outputs": [],
   "source": [
    "\n",
    "mesh_flat = lm.mesh_from_domain(\n",
    "    d,\n",
    "    lm.MeshingProtocol(\n",
    "        layered_model_flat,\n",
    "        interlayer_coarsening_policy=[\n",
    "            lm.InterlayerConstant(),\n",
    "            # lm.InterlayerDoubling(),\n",
    "            lm.InterlayerDoubling(),\n",
    "            lm.InterlayerDoubling(),\n",
    "            lm.InterlayerDoubling(),\n",
    "        ],\n",
    "        ab=sn.AbsorbingBoundaryParameters(\n",
    "            reference_velocity=4000.0,\n",
    "            number_of_wavelengths=0.0,\n",
    "            reference_frequency=1.0,\n",
    "        ),\n",
    "    ),\n",
    "    mr,\n",
    ")"
   ]
  },
  {
   "cell_type": "code",
   "execution_count": null,
   "id": "6af6d24d",
   "metadata": {},
   "outputs": [],
   "source": [
    "mesh_topo = lm.mesh_from_domain(\n",
    "    d,\n",
    "    lm.MeshingProtocol(\n",
    "        layered_model_topo,\n",
    "        interlayer_coarsening_policy=[\n",
    "            lm.InterlayerConstant(),\n",
    "            # lm.InterlayerDoubling(),\n",
    "            lm.InterlayerDoubling(),\n",
    "            lm.InterlayerDoubling(),\n",
    "            lm.InterlayerDoubling(),\n",
    "        ],\n",
    "        ab=sn.AbsorbingBoundaryParameters(\n",
    "            reference_velocity=4000.0,\n",
    "            number_of_wavelengths=0.0,\n",
    "            reference_frequency=1.0,\n",
    "        ),\n",
    "    ),\n",
    "    mr,\n",
    ")\n",
    "# mesh_topo"
   ]
  },
  {
   "cell_type": "code",
   "execution_count": null,
   "id": "15e431fa-2380-436f-971e-e30252b27ba3",
   "metadata": {},
   "outputs": [],
   "source": [
    "mesh_flat"
   ]
  },
  {
   "cell_type": "code",
   "execution_count": null,
   "id": "8531152f",
   "metadata": {},
   "outputs": [],
   "source": [
    "# mesh.write_h5(\"mesh.h5\")"
   ]
  },
  {
   "cell_type": "code",
   "execution_count": null,
   "id": "d7df4c42",
   "metadata": {},
   "outputs": [],
   "source": [
    "# Uncomment the following line to delete a potentially existing project for a fresh start\n",
    "# !rm -rf $PROJECT_DIR\n",
    "p = sn.Project.from_domain(path=PROJECT_DIR, domain=d, load_if_exists=True)"
   ]
  },
  {
   "cell_type": "code",
   "execution_count": null,
   "id": "61b4ba67",
   "metadata": {
    "lines_to_next_cell": 2
   },
   "outputs": [],
   "source": [
    "# Src / Rec reference coordinates.\n",
    "src_x, src_y, src_z = 678320.92,9302914.92, 20500.0"
   ]
  },
  {
   "cell_type": "code",
   "execution_count": null,
   "id": "ba6b47cf",
   "metadata": {},
   "outputs": [],
   "source": [
    "#Source moment tensor\n",
    "Mxx=-6.39E+18\n",
    "Myy=-1.93E+18\n",
    "Mzz=8.32E+18\n",
    "Myz=5.78E+18\n",
    "Mxz=8.04E+18\n",
    "Mxy=-3.89E+18"
   ]
  },
  {
   "cell_type": "code",
   "execution_count": null,
   "id": "76cc9592",
   "metadata": {},
   "outputs": [],
   "source": [
    "# Place an explosive source 12000 m below the free surface.\n",
    "src = sn.simple_config.source.cartesian.SideSetMomentTensorPoint3D(\n",
    "    point=(src_x, src_y, src_z),\n",
    "    direction=(0, 0, 1),\n",
    "    side_set_name=\"z1\",\n",
    "    mxx=Mxx,\n",
    "    myy=Myy,\n",
    "    mzz=Mzz,\n",
    "    myz=Myz,\n",
    "    mxz=Mxz,\n",
    "    mxy=Mxy,\n",
    "    offset=-20500.0,\n",
    ")"
   ]
  },
  {
   "cell_type": "code",
   "execution_count": null,
   "id": "a999cf11",
   "metadata": {},
   "outputs": [],
   "source": [
    "# Create an array for the receivers\n",
    "import numpy as np"
   ]
  },
  {
   "cell_type": "code",
   "execution_count": null,
   "id": "924df248",
   "metadata": {},
   "outputs": [],
   "source": [
    "rec = sn.simple_config.receiver.cartesian.collections.SideSetArrayPoint3D(\n",
    "    y=np.arange(9230000, 9430000, 600),\n",
    "    x=np.arange(500000, 830000, 600),\n",
    "    depth_in_meters=0.0,\n",
    "    fields=[\"velocity\"],\n",
    ")"
   ]
  },
  {
   "cell_type": "code",
   "execution_count": null,
   "id": "e47dab88",
   "metadata": {},
   "outputs": [],
   "source": [
    "# Adding the event to the project.\n",
    "p += sn.Event(event_name=\"PNG\", sources=src, receivers=rec)"
   ]
  },
  {
   "cell_type": "code",
   "execution_count": null,
   "id": "0282eecd",
   "metadata": {},
   "outputs": [],
   "source": [
    "# Event configuration\n",
    "# sn.simple_config.stf.Ricker(center_frequency=0.2)\n",
    "# sn.simple_config.stf.GaussianRate(half_duration_in_seconds=13.3, time_shift_in_seconds=24.52)\n",
    "ec = sn.EventConfiguration(\n",
    "    wavelet=sn.simple_config.stf.GaussianRate(\n",
    "        half_duration_in_seconds=5.3, time_shift_in_seconds=15.23\n",
    "    ),\n",
    "    waveform_simulation_configuration=sn.WaveformSimulationConfiguration(\n",
    "        end_time_in_seconds=120.0\n",
    "    ),\n",
    ")"
   ]
  },
  {
   "cell_type": "code",
   "execution_count": null,
   "id": "b4dd1f52-b07a-4ece-82c6-0dbc405cabbf",
   "metadata": {},
   "outputs": [],
   "source": [
    "wavelet=sn.simple_config.stf.GaussianRate(\n",
    "        half_duration_in_seconds=5.3, time_shift_in_seconds=15.23)\n",
    "wavelet.plot()"
   ]
  },
  {
   "cell_type": "code",
   "execution_count": null,
   "id": "6cba166d",
   "metadata": {},
   "outputs": [],
   "source": [
    "# Prepare the simulation flat surface\n",
    "# p += sn.SimulationConfiguration(\n",
    "#     name=\"flat\",\n",
    "#     tensor_order=1,\n",
    "#     model_configuration=mc,\n",
    "#     event_configuration=ec,\n",
    "#     absorbing_boundaries=ab,\n",
    "#     elements_per_wavelength=1,\n",
    "#     max_depth_in_meters=40000.0,\n",
    "#     max_frequency_in_hertz=0.4,\n",
    "#     topography_configuration=tc,\n",
    "# )\n",
    "\n",
    "p += sn.UnstructuredMeshSimulationConfiguration(\n",
    "    name=\"flat\", unstructured_mesh=mesh_flat, event_configuration=ec\n",
    ")"
   ]
  },
  {
   "cell_type": "code",
   "execution_count": null,
   "id": "f1c0283a",
   "metadata": {},
   "outputs": [],
   "source": [
    "# Prepare simulation for tensor order 2 topography\n",
    "# p += sn.SimulationConfiguration(\n",
    "#     name=\"topo\",\n",
    "#     tensor_order=1,\n",
    "#     model_configuration=mc,\n",
    "#     event_configuration=ec,\n",
    "#     absorbing_boundaries=ab,\n",
    "#     elements_per_wavelength=1,\n",
    "#     max_depth_in_meters=40000.0,\n",
    "#     max_frequency_in_hertz=0.4,\n",
    "#     topography_configuration=tc_topo,\n",
    "# )\n",
    "\n",
    "p += sn.UnstructuredMeshSimulationConfiguration(\n",
    "    name=\"topo\", unstructured_mesh=mesh_topo, event_configuration=ec\n",
    ")"
   ]
  },
  {
   "cell_type": "code",
   "execution_count": null,
   "id": "a3465a5c",
   "metadata": {},
   "outputs": [],
   "source": [
    "# Visualize simulation configuration\n",
    "# p.viz.nb.simulation_setup(\"flat\", [\"PNG\"])"
   ]
  },
  {
   "cell_type": "code",
   "execution_count": null,
   "id": "8dd223cf",
   "metadata": {},
   "outputs": [],
   "source": [
    "# Launch simulation for tensor order 2\n",
    "p.simulations.launch(\n",
    "    \"topo\",\n",
    "    events=[\"PNG\"],\n",
    "    site_name='nightly',\n",
    "    ranks_per_job=40,\n",
    "    extra_output_configuration={\n",
    "        \"surface_data\": {\n",
    "            \"sampling_interval_in_time_steps\": 2,\n",
    "            \"fields\": [\"velocity\"],\n",
    "            \"side_sets\": [\"z1\"],\n",
    "        },\n",
    "        \"memory_per_rank_in_MB\": 2000.0,\n",
    "    },\n",
    ")\n",
    "p.simulations.query(block=True)"
   ]
  },
  {
   "cell_type": "code",
   "execution_count": null,
   "id": "f31c2d22",
   "metadata": {},
   "outputs": [],
   "source": [
    "# Launch simulation for tensor order 1 flat\n",
    "p.simulations.launch(\n",
    "    \"flat\",\n",
    "    events=[\"PNG\"],\n",
    "    site_name='nightly',\n",
    "    ranks_per_job=40,\n",
    "    extra_output_configuration={\n",
    "        \"surface_data\": {\n",
    "            \"sampling_interval_in_time_steps\": 2,\n",
    "            \"fields\": [\"velocity\"],\n",
    "            \"side_sets\": [\"z1\"],\n",
    "        },\n",
    "        \"memory_per_rank_in_MB\": 2000.0,\n",
    "    },\n",
    ")\n",
    "p.simulations.query(block=True)"
   ]
  },
  {
   "cell_type": "code",
   "execution_count": null,
   "id": "785f2296",
   "metadata": {},
   "outputs": [],
   "source": [
    "# Visualize time series\n",
    "# p.simulations.query(block=True)\n",
    "p.viz.nb.waveforms([\"flat\", \"topo\"], receiver_field=\"velocity\")"
   ]
  },
  {
   "cell_type": "code",
   "execution_count": null,
   "id": "2abe048f-2f2f-48e2-83bf-1937d76d1d12",
   "metadata": {
    "lines_to_next_cell": 2
   },
   "outputs": [],
   "source": []
  }
 ],
 "metadata": {
  "jupytext": {
   "formats": "ipynb,py:light"
  },
  "kernelspec": {
   "display_name": "Python 3 (ipykernel)",
   "language": "python",
   "name": "python3"
  },
  "language_info": {
   "codemirror_mode": {
    "name": "ipython",
    "version": 3
   },
   "file_extension": ".py",
   "mimetype": "text/x-python",
   "name": "python",
   "nbconvert_exporter": "python",
   "pygments_lexer": "ipython3",
   "version": "3.7.12"
  }
 },
 "nbformat": 4,
 "nbformat_minor": 5
}
