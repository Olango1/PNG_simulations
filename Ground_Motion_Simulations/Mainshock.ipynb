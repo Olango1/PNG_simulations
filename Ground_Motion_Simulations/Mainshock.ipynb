{
 "cells": [
  {
   "cell_type": "code",
   "execution_count": null,
   "id": "67898864",
   "metadata": {},
   "outputs": [],
   "source": [
    "# import libraries\n",
    "%matplotlib inline\n",
    "import os\n",
    "import pathlib\n",
    "import salvus.namespace as sn\n",
    "from salvus.flow import simple_config as sc\n",
    "import salvus.mesh.unstructured_mesh as um\n",
    "\n",
    "import more_itertools\n",
    "import salvus.mesh.layered_meshing as lm\n",
    "import salvus.mesh.layered_meshing.meshing_protocol as pm"
   ]
  },
  {
   "cell_type": "code",
   "execution_count": null,
   "id": "a1c74bf4",
   "metadata": {},
   "outputs": [],
   "source": [
    "\n",
    "# remote site to run the simulation on.\n",
    "SALVUS_FLOW_SITE_NAME = os.environ.get(\"SITE_NAME\", \"local\")\n",
    "PROJECT_DIR = \"new250_fault\""
   ]
  },
  {
   "cell_type": "code",
   "execution_count": null,
   "id": "ee9ad154",
   "metadata": {},
   "outputs": [],
   "source": [
    "# Creating the domain\n",
    "d = sn.domain.dim3.UtmDomain.from_spherical_chunk(\n",
    "    min_latitude=-5.0,\n",
    "    max_latitude=-7.0,\n",
    "    min_longitude=141.0,\n",
    "    max_longitude=144.0,\n",
    ")\n",
    "\n",
    "# Have a look at the domain to make sure it is correct.\n",
    "d.plot()"
   ]
  },
  {
   "cell_type": "code",
   "execution_count": null,
   "id": "2156d619",
   "metadata": {},
   "outputs": [],
   "source": [
    "# Where to download topography data to.\n",
    "topo_filename = \"gmrt_topography.nc\"\n",
    "\n",
    "# Query data from the GMRT web service.\n",
    "if not os.path.exists(topo_filename):\n",
    "    d.download_topography_and_bathymetry(\n",
    "        filename=topo_filename,\n",
    "        # The buffer is useful for example when adding sponge layers\n",
    "        # for absorbing boundaries so we recommend to always use it.\n",
    "        buffer_in_degrees=0.1,\n",
    "        resolution=\"default\",\n",
    "    )"
   ]
  },
  {
   "cell_type": "code",
   "execution_count": null,
   "id": "da7654f4",
   "metadata": {},
   "outputs": [],
   "source": [
    "# Data is loaded to Salvus compatible SurfaceTopography object. It will resample\n",
    "# to a regular grid and convert to the UTM coordinates of the domain.\n",
    "# This will later be added to the Salvus project.\n",
    "\n",
    "\n",
    "t1 = sn.topography.cartesian.SurfaceTopography.from_gmrt_file(\n",
    "    name=\"png1_topo\",\n",
    "    data=topo_filename,\n",
    "    resample_topo_nx=200,\n",
    "    # If the coordinate conversion is very slow, consider decimating.\n",
    "    decimate_topo_factor=5,\n",
    "    # Smooth if necessary.\n",
    "    gaussian_std_in_meters=0.0,\n",
    "    # Make sure to pass the correct UTM zone.\n",
    "    utm=d.utm,\n",
    ")\n",
    "t2 = sn.topography.cartesian.SurfaceTopography.from_gmrt_file(\n",
    "    name=\"small_avg1\",\n",
    "    data=topo_filename,\n",
    "    resample_topo_nx=500,\n",
    "    # If the coordinate conversion is very slow, consider decimating.\n",
    "    decimate_topo_factor=5,\n",
    "    # Smooth if necessary.\n",
    "    gaussian_std_in_meters=10000.0,\n",
    "    # Make sure to pass the correct UTM zone.\n",
    "    utm=d.utm,\n",
    ")"
   ]
  },
  {
   "cell_type": "code",
   "execution_count": null,
   "id": "e0ef3032",
   "metadata": {
    "lines_to_next_cell": 2
   },
   "outputs": [],
   "source": [
    "# visualize topography\n",
    "t2.ds.dem.T.plot(aspect=1, size=7)\n",
    "t1.ds.dem.T.plot(aspect=1, size=7)"
   ]
  },
  {
   "cell_type": "code",
   "execution_count": null,
   "id": "e0b8bda1",
   "metadata": {},
   "outputs": [],
   "source": [
    "_dem = (t1.ds.dem - t1.ds.dem.max()).assign_attrs(\n",
    "    {\"ref\": float(t1.ds.dem.max())}\n",
    ")\n",
    "dem = _dem.copy(data=_dem)\n",
    "dem\n",
    "_dem1 = (t2.ds.dem - t2.ds.dem.max()).assign_attrs(\n",
    "    {\"ref\": float(t2.ds.dem.max())}\n",
    ")\n",
    "dem1 = _dem1.copy(data=_dem1)"
   ]
  },
  {
   "cell_type": "markdown",
   "id": "51aa130f",
   "metadata": {},
   "source": [
    "@emerald: below here i've translated your BM file into Salvus' layered meshing format. Soon you will be able to create a layered model directly from a BM file as well. Notice how the models and interfaces I am passing are in a top-down order.\n",
    "\n",
    "For the \"interface topo\" below, notice how I am specifying the \"thin\" near-surface layers with reference to the surface topography itself. This was one of the problems before: The peak-to-peak amplitude of the topography was larger than the layer thickness, causing layers to cross and producing indefinite jacobians."
   ]
  },
  {
   "cell_type": "code",
   "execution_count": null,
   "id": "8f3c4831",
   "metadata": {},
   "outputs": [],
   "source": [
    "materials = [\n",
    "    # lm.material.elastic.Velocity.from_params(vp=3800.0, vs=2400.0, rho=2360.0),\n",
    "    lm.material.elastic.Velocity.from_params(vp=3800.0, vs=2400.0, rho=2360.0),\n",
    "    lm.material.elastic.Velocity.from_params(vp=5400.0, vs=3400.0, rho=2720.0),\n",
    "    lm.material.elastic.Velocity.from_params(vp=6000.0, vs=3600.0, rho=2740.0),\n",
    "    lm.material.elastic.Velocity.from_params(vp=6200.0, vs=3800.0, rho=2760.0),\n",
    "    lm.material.elastic.Velocity.from_params(vp=8000.0, vs=4400.0, rho=3290.0),\n",
    "]\n",
    "\n",
    "\n",
    "\n",
    "interfaces_flat = [\n",
    "    lm.interface.Surface(dem1),\n",
    "    # lm.interface.Surface(dem.assign_attrs({\"ref\": dem.ref - 1000.0})),\n",
    "    lm.interface.Surface(dem1.assign_attrs({\"ref\": dem1.ref - 3000.0})),\n",
    "    lm.interface.Hyperplane.at(dem.ref - 10_000.0),\n",
    "    lm.interface.Hyperplane.at(dem.ref - 20_000.0),\n",
    "    lm.interface.Hyperplane.at(dem.ref - 45_000.0),\n",
    "    lm.interface.Hyperplane.at(dem.ref - 60_000.0),\n",
    "]\n",
    "\n",
    "interfaces_topo = [\n",
    "    lm.interface.Surface(dem),\n",
    "    # lm.interface.Surface(dem.assign_attrs({\"ref\": dem.ref - 1000.0})),\n",
    "    lm.interface.Surface(dem.assign_attrs({\"ref\": dem.ref - 3000.0})),\n",
    "    lm.interface.Hyperplane.at(dem.ref - 10_000.0),\n",
    "    lm.interface.Hyperplane.at(dem.ref - 20_000.0),\n",
    "    lm.interface.Hyperplane.at(dem.ref - 45_000.0),\n",
    "    lm.interface.Hyperplane.at(dem.ref - 60_000.0),\n",
    "]"
   ]
  },
  {
   "cell_type": "code",
   "execution_count": null,
   "id": "a8c8637c",
   "metadata": {},
   "outputs": [],
   "source": [
    "layered_model_flat = lm.LayeredModel(\n",
    "    list(more_itertools.interleave_longest(interfaces_flat, materials))\n",
    ")\n",
    "layered_model_topo = lm.LayeredModel(\n",
    "    list(more_itertools.interleave_longest(interfaces_topo, materials))\n",
    ")"
   ]
  },
  {
   "cell_type": "code",
   "execution_count": null,
   "id": "861599d0",
   "metadata": {},
   "outputs": [],
   "source": [
    "mr = sn.MeshResolution(\n",
    "    reference_frequency=0.5, elements_per_wavelength=1.0, model_order=1\n",
    ")"
   ]
  },
  {
   "cell_type": "code",
   "execution_count": null,
   "id": "e12bcd18",
   "metadata": {},
   "outputs": [],
   "source": [
    "\n",
    "\n",
    "mesh_flat = lm.mesh_from_domain(\n",
    "    d,\n",
    "    lm.MeshingProtocol(\n",
    "        layered_model_flat,\n",
    "        interlayer_coarsening_policy=[\n",
    "            lm.InterlayerConstant(),\n",
    "            # lm.InterlayerDoubling(),\n",
    "            lm.InterlayerDoubling(),\n",
    "            lm.InterlayerDoubling(),\n",
    "            lm.InterlayerDoubling(),\n",
    "        ],\n",
    "        # ab=sn.AbsorbingBoundaryParameters(\n",
    "        #     reference_velocity=4000.0,\n",
    "        #     number_of_wavelengths=0.0,\n",
    "        #     reference_frequency=1.0,\n",
    "        # ),\n",
    "    ),\n",
    "    mr,\n",
    ")"
   ]
  },
  {
   "cell_type": "code",
   "execution_count": null,
   "id": "2a035053",
   "metadata": {},
   "outputs": [],
   "source": [
    "mesh_topo = lm.mesh_from_domain(\n",
    "    d,\n",
    "    lm.MeshingProtocol(\n",
    "        layered_model_topo,\n",
    "        interlayer_coarsening_policy=[\n",
    "            lm.InterlayerConstant(),\n",
    "            # lm.InterlayerDoubling(),\n",
    "            lm.InterlayerDoubling(),\n",
    "            lm.InterlayerDoubling(),\n",
    "            lm.InterlayerDoubling(),\n",
    "        ],\n",
    "        # ab=sn.AbsorbingBoundaryParameters(\n",
    "        #     reference_velocity=4000.0,\n",
    "        #     number_of_wavelengths=0.0,\n",
    "        #     reference_frequency=1.0,\n",
    "        # ),\n",
    "    ),\n",
    "    mr,\n",
    ")"
   ]
  },
  {
   "cell_type": "code",
   "execution_count": null,
   "id": "5f07a825",
   "metadata": {},
   "outputs": [],
   "source": [
    "# mesh_flat.write_h5(\"mesh_flat.h5\")"
   ]
  },
  {
   "cell_type": "code",
   "execution_count": null,
   "id": "b5e42cf6",
   "metadata": {},
   "outputs": [],
   "source": [
    "mesh_topo"
   ]
  },
  {
   "cell_type": "code",
   "execution_count": null,
   "id": "ed984c39",
   "metadata": {},
   "outputs": [],
   "source": [
    "# Uncomment the following line to delete a potentially existing project for a fresh start\n",
    "# !rm -rf $PROJECT_DIR\n",
    "p = sn.Project.from_domain(path=PROJECT_DIR, domain=d, load_if_exists=True)"
   ]
  },
  {
   "cell_type": "code",
   "execution_count": null,
   "id": "d51c758b-8ee9-4e39-9ca6-23fa47ae7b89",
   "metadata": {},
   "outputs": [],
   "source": [
    "#define sources and wavelets from excel file\n",
    "import pandas as pd\n",
    "import numpy as np\n",
    "source_file=pd.read_csv('/srv/gamp/png/Paper/Aftershocks/new250_fault.csv')\n",
    "d=source_file['rise'].astype(float)\n",
    "f=d.to_list()\n",
    "r=source_file['rupture'].astype(float)\n",
    "rupt=r.to_list()\n",
    "\n",
    "\n",
    "sources=[]\n",
    "# wavelets=sn.simple_config.stf.Ricker(center_frequency=0.2)\n",
    "wavelets=[]\n",
    "for i in range(len(f)):\n",
    "    wave_pt=sn.simple_config.stf.GaussianRate(half_duration_in_seconds=float(f[i])/2, time_shift_in_seconds=float(rupt[i]))\n",
    "    wavelets.append(wave_pt)\n",
    "\n",
    "\n",
    "for idx,row in source_file.iterrows():\n",
    "    event_pt=sn.simple_config.source.cartesian.MomentTensorPoint3D(\n",
    "    x=row.x,\n",
    "    y=row.y,\n",
    "    z=-row.z*1000,\n",
    "    mxx= row.Mtt,\n",
    "    myy= row.Mpp,\n",
    "    mzz= row.Mrr,\n",
    "    myz= -row.Mrp,\n",
    "    # myz= row.Mrp,\n",
    "    mxz= row.Mrt,\n",
    "    mxy= -row.Mtp,\n",
    "    # mxy= row.Mtp,\n",
    "    # offset=-row.z*1000,\n",
    ")\n",
    "\n",
    "\n",
    "    sources.append(event_pt)"
   ]
  },
  {
   "cell_type": "code",
   "execution_count": null,
   "id": "f7c28a8f",
   "metadata": {},
   "outputs": [],
   "source": [
    "# Create an array for the receivers\n",
    "rec = sn.simple_config.receiver.cartesian.collections.SideSetArrayPoint3D(\n",
    "    y=np.arange(9250000, 9410000, 10000),\n",
    "    x=np.arange(520000, 810000, 10000),\n",
    "    depth_in_meters=0.0,\n",
    "    fields=[\"velocity\"],\n",
    ")\n",
    "# If receivers are available\n",
    "# rec=[]\n",
    "# source_file=pd.read_csv('/srv/gamp/png/Paper/receiver.csv')\n",
    "# for idx,row in source_file.iterrows():\n",
    "#     recs=sn.simple_config.receiver.cartesian.SideSetPoint3D(\n",
    "#         point=(row.X, row.Y , 0),\n",
    "#         direction=(0, 0, 1),\n",
    "#         side_set_name=\"z1\",\n",
    "#         fields=[\"velocity\"],\n",
    "#         station_code=row.Name,\n",
    "#         # station_code=f\"XX_{idx}\",\n",
    "#     )\n",
    "#     rec.append(recs)"
   ]
  },
  {
   "cell_type": "code",
   "execution_count": null,
   "id": "1e81c7e5",
   "metadata": {},
   "outputs": [],
   "source": [
    "# Adding the event to the project.\n",
    "p += sn.Event(event_name=\"PNG\", sources=sources, receivers=rec)"
   ]
  },
  {
   "cell_type": "code",
   "execution_count": null,
   "id": "8a42131a-b121-43b0-a6a6-19d08dd6fdf2",
   "metadata": {},
   "outputs": [],
   "source": [
    "abp=sc.boundary.Absorbing(side_sets=['x0','x1','y0','y1','z0'], taper_amplitude=0.8, width_in_meters=10000.0)"
   ]
  },
  {
   "cell_type": "code",
   "execution_count": null,
   "id": "34295895",
   "metadata": {},
   "outputs": [],
   "source": [
    "# Event configuration , attenuation= False, boundary_conditions=abp\n",
    "\n",
    "ec = sn.EventConfiguration(\n",
    "    wavelet=wavelets,\n",
    "    waveform_simulation_configuration=sn.WaveformSimulationConfiguration(\n",
    "        end_time_in_seconds=200.0, attenuation= False, boundary_conditions=abp\n",
    "    ),\n",
    ")"
   ]
  },
  {
   "cell_type": "code",
   "execution_count": null,
   "id": "9e4d910c",
   "metadata": {},
   "outputs": [],
   "source": [
    "# # Create absorbing boundaries\n",
    "# Note -- its not necessary here to use sponge layers really.\n",
    "\n",
    "# ab = sn.AbsorbingBoundaryParameters(\n",
    "#     reference_velocity=3000.0,\n",
    "#     reference_frequency=0.5,\n",
    "#     number_of_wavelengths=4.5,\n",
    "# )"
   ]
  },
  {
   "cell_type": "code",
   "execution_count": null,
   "id": "0873a427",
   "metadata": {},
   "outputs": [],
   "source": [
    "# Prepare the simulation flat surface\n",
    "# p += sn.SimulationConfiguration(\n",
    "#     name=\"flat\",\n",
    "#     tensor_order=1,\n",
    "#     model_configuration=mc,\n",
    "#     event_configuration=ec,\n",
    "#     absorbing_boundaries=ab,\n",
    "#     elements_per_wavelength=1,\n",
    "#     max_depth_in_meters=40000.0,\n",
    "#     max_frequency_in_hertz=0.4,\n",
    "#     topography_configuration=tc,\n",
    "# )\n",
    "\n",
    "p += sn.UnstructuredMeshSimulationConfiguration(\n",
    "    name=\"flat\", unstructured_mesh=mesh_flat, event_configuration=ec\n",
    ")"
   ]
  },
  {
   "cell_type": "code",
   "execution_count": null,
   "id": "8d05789c",
   "metadata": {},
   "outputs": [],
   "source": [
    "# Prepare simulation for tensor order 2 topography\n",
    "# p += sn.SimulationConfiguration(\n",
    "#     name=\"topo\",\n",
    "#     tensor_order=1,\n",
    "#     model_configuration=mc,\n",
    "#     event_configuration=ec,\n",
    "#     absorbing_boundaries=ab,\n",
    "#     elements_per_wavelength=1,\n",
    "#     max_depth_in_meters=40000.0,\n",
    "#     max_frequency_in_hertz=0.4,\n",
    "#     topography_configuration=tc_topo,\n",
    "# )\n",
    "\n",
    "p += sn.UnstructuredMeshSimulationConfiguration(\n",
    "    name=\"topo\", unstructured_mesh=mesh_topo, event_configuration=ec\n",
    ")"
   ]
  },
  {
   "cell_type": "code",
   "execution_count": null,
   "id": "541f6962",
   "metadata": {},
   "outputs": [],
   "source": [
    "# Visualize simulation configuration\n",
    "p.viz.nb.simulation_setup(\"topo\",[\"PNG\"])"
   ]
  },
  {
   "cell_type": "code",
   "execution_count": null,
   "id": "94b7a028",
   "metadata": {},
   "outputs": [],
   "source": [
    "# Launch simulation for tensor order 2\n",
    "p.simulations.launch(\n",
    "    \"topo\",\n",
    "    events=[\"PNG\"],\n",
    "    site_name=SALVUS_FLOW_SITE_NAME,\n",
    "    ranks_per_job=40,\n",
    "    # wall_time_in_seconds_per_job=100000,\n",
    "    extra_output_configuration={\n",
    "        \"surface_data\": {\n",
    "            \"sampling_interval_in_time_steps\": 1,\n",
    "            \"fields\": [\"velocity\"],\n",
    "            \"side_sets\": [\"z1\"],\n",
    "        },\n",
    "        \"memory_per_rank_in_MB\": 2000.0,\n",
    "    },\n",
    ")\n",
    "p.simulations.query(block=True)"
   ]
  },
  {
   "cell_type": "code",
   "execution_count": null,
   "id": "263ded90",
   "metadata": {},
   "outputs": [],
   "source": [
    "# Launch simulation for tensor order 1 flat\n",
    "p.simulations.launch(\n",
    "    \"flat\",\n",
    "    events=[\"PNG\"],\n",
    "    site_name=SALVUS_FLOW_SITE_NAME,\n",
    "    ranks_per_job=40,\n",
    "    # wall_time_in_seconds_per_job=100000,\n",
    "    extra_output_configuration={\n",
    "        \"surface_data\": {\n",
    "            \"sampling_interval_in_time_steps\": 1,\n",
    "            \"fields\": [\"velocity\"],\n",
    "            \"side_sets\": [\"z1\"],\n",
    "        },\n",
    "        \"memory_per_rank_in_MB\": 2000.0,\n",
    "    },\n",
    ")\n",
    "p.simulations.query(block=True)"
   ]
  },
  {
   "cell_type": "code",
   "execution_count": null,
   "id": "b11a6335",
   "metadata": {},
   "outputs": [],
   "source": [
    "# Visualize time series\n",
    "# p.simulations.query(block=True)\n",
    "p.viz.nb.waveforms([ \"flat\",\"topo\"], receiver_field=\"velocity\")"
   ]
  },
  {
   "cell_type": "code",
   "execution_count": null,
   "id": "7eec2289-6187-47ab-b55f-7e895e42aaca",
   "metadata": {},
   "outputs": [],
   "source": [
    "import h5py\n",
    "import numpy as np\n",
    "import matplotlib.pyplot as plt\n",
    "import matplotlib.tri as tri"
   ]
  },
  {
   "cell_type": "code",
   "execution_count": null,
   "id": "28a410a2-6050-43d1-b689-79940d7a40ed",
   "metadata": {},
   "outputs": [],
   "source": [
    "f1=h5py.File(\"/home/gamp/srv/png/Paper/Aftershocks/old_fault/EVENTS/PNG/WAVEFORM_DATA/INTERNAL/82/88/25c5fe5dce64/surface_data_output.h5\", \"r\")\n",
    "f2=h5py.File(\"/home/gamp/srv/png/Paper/Aftershocks/old_fault/EVENTS/PNG/WAVEFORM_DATA/INTERNAL/a5/12/42febb286737/surface_data_output.h5\", \"r\")"
   ]
  },
  {
   "cell_type": "code",
   "execution_count": null,
   "id": "99c1de77-76c2-497e-95b6-0d5d60bc5018",
   "metadata": {},
   "outputs": [],
   "source": [
    "coordinates = f2[\"coordinates_ELASTIC_surface\"][:]\n",
    "data = f2[\"surface\"][\"velocity\"][:]\n",
    "\n",
    "# Compute the magnitude - the third dimensions is the components.\n",
    "magnitude = np.linalg.norm(data, axis=2)\n",
    "\n",
    "# Peak ground displacement.\n",
    "pgv = np.max(magnitude, axis=0)"
   ]
  },
  {
   "cell_type": "code",
   "execution_count": null,
   "id": "7a29c3bf-0e19-4b6b-8666-5352680c0ab9",
   "metadata": {},
   "outputs": [],
   "source": [
    "triang = tri.Triangulation(\n",
    "    coordinates[:, :, 0].flatten(), coordinates[:, :, 1].flatten()\n",
    ")\n",
    "plt.tripcolor(triang, pgv.flatten(), shading=\"gouraud\")\n",
    "plt.gca().set_aspect(1.0)\n",
    "plt.colorbar()\n",
    "plt.show()"
   ]
  },
  {
   "cell_type": "code",
   "execution_count": null,
   "id": "95209cd7-cd87-4e2c-a31b-69604d6b319c",
   "metadata": {
    "lines_to_next_cell": 2
   },
   "outputs": [],
   "source": []
  }
 ],
 "metadata": {
  "jupytext": {
   "formats": "ipynb,py:light"
  },
  "kernelspec": {
   "display_name": "Python 3 (ipykernel)",
   "language": "python",
   "name": "python3"
  },
  "language_info": {
   "codemirror_mode": {
    "name": "ipython",
    "version": 3
   },
   "file_extension": ".py",
   "mimetype": "text/x-python",
   "name": "python",
   "nbconvert_exporter": "python",
   "pygments_lexer": "ipython3",
   "version": "3.7.12"
  }
 },
 "nbformat": 4,
 "nbformat_minor": 5
}
