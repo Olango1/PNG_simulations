{
 "cells": [
  {
   "cell_type": "code",
   "execution_count": null,
   "id": "a554b48a-c420-4e13-8867-7f3bb17f47b5",
   "metadata": {},
   "outputs": [],
   "source": [
    "import pandas as pd\n",
    "import numpy as np\n",
    "import os\n",
    "import matplotlib.pyplot as plt\n",
    "from pyproj import Proj\n",
    "from scipy import interpolate\n",
    "\n",
    "myProj = Proj(\"+proj=utm +zone=54 +south +ellps=WGS84 +datum=WGS84 +units=m +no_defs\")"
   ]
  },
  {
   "cell_type": "code",
   "execution_count": null,
   "id": "00186b01-2d31-464a-969e-f0340465f4a1",
   "metadata": {},
   "outputs": [],
   "source": [
    "df = pd.read_csv('/Users/olangoea/Downloads/PNGMainShock.fsp', skiprows=51, delim_whitespace=True, \n",
    "                 names = ['lat','lon','x','y','z','slip','rake','rupt_time','rise','moment'])\n",
    "\n",
    "df"
   ]
  },
  {
   "cell_type": "code",
   "execution_count": null,
   "id": "b46489d9",
   "metadata": {},
   "outputs": [],
   "source": [
    "#Summing moments\n",
    "rt=np.sum(df['moment'])\n",
    "rt"
   ]
  },
  {
   "cell_type": "code",
   "execution_count": null,
   "id": "6047f716-31e6-409b-a9eb-33f10c66f1d1",
   "metadata": {},
   "outputs": [],
   "source": [
    "#define strike and dip from file\n",
    "strike,dip = 308, 33\n",
    "\n",
    "#convert coordinates to utm for interpolation\n",
    "utmx, utmy = myProj(df.lon, df.lat)\n",
    "centroid = (sum(utmx) / len(df), sum(utmy) / len(df))\n",
    "\n",
    "#rotate the fault model about the central point so interpolation is easy\n",
    "xshift, yshift = utmx-centroid[0], utmy-centroid[1]\n",
    "xp = xshift*np.cos(strike*np.pi/180) - yshift*np.sin(strike*np.pi/180) + centroid[0]\n",
    "yp = xshift*np.sin(strike*np.pi/180) + yshift*np.cos(strike*np.pi/180) + centroid[1]"
   ]
  },
  {
   "cell_type": "code",
   "execution_count": null,
   "id": "98ce9ba6",
   "metadata": {},
   "outputs": [],
   "source": []
  },
  {
   "cell_type": "code",
   "execution_count": null,
   "id": "844d7733-3597-4262-b736-148e7188b386",
   "metadata": {},
   "outputs": [],
   "source": [
    "#make an interpolation surface\n",
    "points = np.hstack((xp.reshape(len(xp),1), yp.reshape(len(xp),1)))\n",
    "fz = interpolate.LinearNDInterpolator(points, df.z, fill_value='nan')\n",
    "frise = interpolate.LinearNDInterpolator(points, df.rise, fill_value='nan')\n",
    "frupt = interpolate.LinearNDInterpolator(points, df.rupt_time, fill_value='nan')\n",
    "fmo = interpolate.LinearNDInterpolator(points, df.moment, fill_value='nan')\n",
    "frake = interpolate.LinearNDInterpolator(points, df.rake, fill_value='nan')\n",
    "fslip = interpolate.LinearNDInterpolator(points, df.slip, fill_value='nan')"
   ]
  },
  {
   "cell_type": "code",
   "execution_count": null,
   "id": "f6eb2cb0",
   "metadata": {},
   "outputs": [],
   "source": [
    "fslip"
   ]
  },
  {
   "cell_type": "code",
   "execution_count": null,
   "id": "c741cdcd-e82d-4918-89f8-9f12e34793a8",
   "metadata": {},
   "outputs": [],
   "source": [
    "xmin,xmax = np.min(xp),np.max(xp)\n",
    "ymin,ymax = np.min(yp),np.max(yp)\n",
    "\n",
    "xspace,yspace = 500,500\n",
    "\n",
    "xrange = np.arange(xmin,xmax,xspace)\n",
    "yrange = np.arange(ymin,ymax,yspace)\n",
    "\n",
    "X,Y = np.meshgrid(xrange,yrange)\n",
    "\n",
    "z = fz(X,Y)\n",
    "rise = frise(X,Y)\n",
    "rupt = frupt(X,Y)\n",
    "mo = fmo(X,Y)\n",
    "rake = frake(X,Y)\n",
    "slip = fslip(X,Y)"
   ]
  },
  {
   "cell_type": "code",
   "execution_count": null,
   "id": "5c6ce7c4",
   "metadata": {},
   "outputs": [],
   "source": [
    "np.sum(mo)"
   ]
  },
  {
   "cell_type": "code",
   "execution_count": null,
   "id": "b960f217",
   "metadata": {},
   "outputs": [],
   "source": [
    "(slip.ravel()).shape"
   ]
  },
  {
   "cell_type": "code",
   "execution_count": null,
   "id": "9b5b9b09-31ff-42aa-9760-ad7cd57a203d",
   "metadata": {},
   "outputs": [],
   "source": [
    "#put everything together as xy points\n",
    "stack = (X.ravel(), Y.ravel(), z.ravel(), rupt.ravel(), rise.ravel(), rake.ravel(), mo.ravel(), slip.ravel())\n",
    "\n",
    "\n",
    "x = stack[0]\n",
    "y = stack[1]\n",
    "#rotate back\n",
    "xshift, yshift = x-centroid[0], y-centroid[1]\n",
    "xp = xshift*np.cos(-1*strike*np.pi/180) - yshift*np.sin(-1*strike*np.pi/180) + centroid[0]\n",
    "yp = xshift*np.sin(-1*strike*np.pi/180) + yshift*np.cos(-1*strike*np.pi/180) + centroid[1]"
   ]
  },
  {
   "cell_type": "code",
   "execution_count": null,
   "id": "5b1f04b5",
   "metadata": {},
   "outputs": [],
   "source": [
    "fig,axs = plt.subplots(3,2, figsize = (20,10))\n",
    "\n",
    "im1=axs[0,0].scatter(xp,yp,c = z, label = 'Depth')\n",
    "fig.colorbar(im1, ax=axs[0, 0])\n",
    "\n",
    "im2=axs[0,1].scatter(xp,yp,c = rupt, label = 'rupture time')\n",
    "fig.colorbar(im2, ax=axs[0, 1])\n",
    "im3=axs[1,0].scatter(xp,yp,c = stack[4], label = 'rise time')\n",
    "fig.colorbar(im3, ax=axs[1, 0])\n",
    "im4=axs[1,1].scatter(xp,yp,c = stack[5], label = 'rake')\n",
    "fig.colorbar(im4, ax=axs[1, 1])\n",
    "im5=axs[2,0].scatter(xp,yp,c = stack[6], label = 'moment')\n",
    "fig.colorbar(im5, ax=axs[2, 0])\n",
    "im6=axs[2,1].scatter(xp,yp,c = stack[7], label = 'slip')\n",
    "fig.colorbar(im6, ax=axs[2, 1])\n",
    "#plt.show()\n",
    "plt.legend()\n",
    "#plt.scatter(xp,yp,c = stack[3], s = 0.1)\n",
    "#plt.colorbar()\n",
    "plt.show()"
   ]
  },
  {
   "cell_type": "code",
   "execution_count": null,
   "id": "c051f489",
   "metadata": {},
   "outputs": [],
   "source": [
    "#sum up values of moments\n",
    "moment1 = np.sum(stack[6])\n",
    "moment2=np.sum(mo)\n",
    "print(moment1, moment2)"
   ]
  },
  {
   "cell_type": "code",
   "execution_count": null,
   "id": "154517e8-c8ab-4417-a7a0-81044c69d07c",
   "metadata": {
    "tags": []
   },
   "outputs": [],
   "source": [
    "fig,axs = plt.subplots(3,2, figsize = (20,10))\n",
    "\n",
    "im1=axs[0,0].scatter(xp,yp,c = stack[2], label = 'Depth')\n",
    "fig.colorbar(im1, ax=axs[0, 0])\n",
    "\n",
    "im2=axs[0,1].scatter(xp,yp,c = stack[3], label = 'rupture time')\n",
    "fig.colorbar(im2, ax=axs[0, 1])\n",
    "im3=axs[1,0].scatter(xp,yp,c = stack[4], label = 'rise time')\n",
    "fig.colorbar(im3, ax=axs[1, 0])\n",
    "im4=axs[1,1].scatter(xp,yp,c = stack[5], label = 'rake')\n",
    "fig.colorbar(im4, ax=axs[1, 1])\n",
    "im5=axs[2,0].scatter(xp,yp,c = stack[6], label = 'moment')\n",
    "fig.colorbar(im5, ax=axs[2, 0])\n",
    "im6=axs[2,1].scatter(xp,yp,c = stack[7], label = 'slip')\n",
    "fig.colorbar(im6, ax=axs[2, 1])\n",
    "#plt.show()\n",
    "plt.legend()\n",
    "#plt.scatter(xp,yp,c = stack[3], s = 0.1)\n",
    "#plt.colorbar()\n",
    "plt.show()"
   ]
  },
  {
   "cell_type": "code",
   "execution_count": null,
   "id": "330c777e",
   "metadata": {},
   "outputs": [],
   "source": [
    "plt.scatter(xp,yp,c = stack[3], label = 'rupture time',s=0.1)\n",
    "plt.colorbar()\n",
    "plt.show()"
   ]
  },
  {
   "cell_type": "code",
   "execution_count": null,
   "id": "c5ccd437-5f5c-4068-ab20-32db4c68efcc",
   "metadata": {},
   "outputs": [],
   "source": [
    "#calculate the area of one subfault using the strike and dip\n",
    "area = xspace/np.cos(dip * np.pi/180) * yspace/np.cos(strike-360 * np.pi/180)\n",
    "print('Area for 1 subfault = ' + str(round(area/1e6,5)) + ' km2')\n",
    "\n",
    "#Then use the interpolated slip to calculate a new moment, it was confusing the other way around....\n",
    "mo = stack[7]*area*30e9"
   ]
  },
  {
   "cell_type": "code",
   "execution_count": null,
   "id": "5207f369",
   "metadata": {},
   "outputs": [],
   "source": [
    "moment = mo[~np.isnan(mo)]\n",
    "# moment.flatten()"
   ]
  },
  {
   "cell_type": "code",
   "execution_count": null,
   "id": "3a791ed6-5d87-44ba-8701-b4ddfd85a1cf",
   "metadata": {},
   "outputs": [],
   "source": [
    "#compare to make sure new and old moment match up\n",
    "plt.scatter(xp,yp,c=mo)\n",
    "plt.colorbar()\n",
    "plt.show()\n",
    "\n",
    "plt.scatter(xp,yp,c=stack[6],cmap='turbo')\n",
    "plt.colorbar()\n",
    "plt.show()\n",
    "\n"
   ]
  },
  {
   "cell_type": "code",
   "execution_count": null,
   "id": "d75db0c7",
   "metadata": {},
   "outputs": [],
   "source": [
    "#compare to make sure new and old moment match up\n",
    "plt.scatter(xp,yp,c=slip)\n",
    "plt.colorbar()\n",
    "plt.show()\n",
    "\n",
    "plt.scatter(xp,yp,c=stack[7],cmap='turbo')\n",
    "plt.colorbar()\n",
    "plt.show()"
   ]
  },
  {
   "cell_type": "code",
   "execution_count": null,
   "id": "81815e4e",
   "metadata": {},
   "outputs": [],
   "source": [
    "from pyrocko import moment_tensor as pmt"
   ]
  },
  {
   "cell_type": "code",
   "execution_count": null,
   "id": "a4481d96",
   "metadata": {},
   "outputs": [],
   "source": [
    "strk=strike*np.ones_like(moment)\n",
    "dp=dip*np.ones_like(moment)\n"
   ]
  },
  {
   "cell_type": "code",
   "execution_count": null,
   "id": "ca29b5ea",
   "metadata": {},
   "outputs": [],
   "source": [
    "dt=pd.DataFrame(stack[6])\n",
    "dt['rake']=stack[5]\n",
    "dt['x']=xp\n",
    "dt['y']=yp\n",
    "dt['z']=stack[2]\n",
    "dt['rupture']=stack[3]\n",
    "dt['rise']=stack[4]\n",
    "dt['slip']=stack[7]\n",
    "dt.columns=['moment','rake','x','y','z','rupture','rise','slip']\n",
    "dt= dt.dropna()\n",
    "dt"
   ]
  },
  {
   "cell_type": "code",
   "execution_count": null,
   "id": "9a8e8fed",
   "metadata": {},
   "outputs": [],
   "source": [
    "# dt1=pd.DataFrame(stack[6])\n",
    "# dt['rake']=stack[5]\n",
    "# dt['x']=xp\n",
    "# dt['y']=yp\n",
    "# dt['z']=stack[2]\n",
    "# dt['rupture']=stack[3]\n",
    "# dt['rise']=stack[4]\n",
    "# dt['slip']=stack[7]\n",
    "# dt.columns=['moment','rake','x','y','z','rupture','rise','slip']\n",
    "# dt= dt.dropna()\n",
    "# dt"
   ]
  },
  {
   "cell_type": "code",
   "execution_count": null,
   "id": "4d768e8d",
   "metadata": {},
   "outputs": [],
   "source": [
    "# dt=pd.DataFrame(stack[6])\n",
    "# dt['rake']=stack[5]\n",
    "# dt['x']=xp\n",
    "# dt['y']=yp\n",
    "# dt['z']=z.flatten()\n",
    "# dt['rupture']=rupt.flatten()\n",
    "# dt['rise']=rise.flatten()\n",
    "# dt['slip']=slip.flatten()\n",
    "# dt.columns=['moment','rake','x','y','z','rupture','rise','slip']\n",
    "# dt= dt.dropna()\n",
    "# dt\n",
    "# # z = fz(X,Y)\n",
    "# # rise = frise(X,Y)\n",
    "# # rupt = frupt(X,Y)\n",
    "# # mo = fmo(X,Y)\n",
    "# # rake = frake(X,Y)\n",
    "# # slip = fslip(X,Y)"
   ]
  },
  {
   "cell_type": "code",
   "execution_count": null,
   "id": "3072a7c9",
   "metadata": {},
   "outputs": [],
   "source": [
    "dt.to_csv(\"/Users/olangoea/Library/CloudStorage/OneDrive-KAUST/Documents/day-03-material/interpolated_flatten.csv\")"
   ]
  },
  {
   "cell_type": "code",
   "execution_count": null,
   "id": "ccf16946",
   "metadata": {},
   "outputs": [],
   "source": [
    "plt.scatter(dt['x'],dt['y'],c=dt['rupture'])\n",
    "plt.colorbar()\n",
    "plt.show()"
   ]
  },
  {
   "cell_type": "code",
   "execution_count": null,
   "id": "8133826c",
   "metadata": {},
   "outputs": [],
   "source": [
    "mrr=[]\n",
    "mtt=[]\n",
    "mpp=[]\n",
    "mrt=[]\n",
    "mrp=[]\n",
    "mtp=[]\n",
    "for idx,row in dt.iterrows():\n",
    "    rake= row.rake\n",
    "    moment= row.moment\n",
    "    mt = pmt.MomentTensor(strike=strike, dip=dip, rake=rake, scalar_moment=moment)\n",
    "    # m.append(mt.mnn, mt.mee, mt.mdd, mt.mne, mt.mnd, mt.med)  # The six MT components\n",
    "    mrr.append(mt.mnn)\n",
    "    mtt.append(mt.mee)\n",
    "    mpp.append(mt.mdd) \n",
    "    mrt.append(mt.mne) \n",
    "    mrp.append(mt.mnd) \n",
    "    mtp.append(mt.med)"
   ]
  },
  {
   "cell_type": "code",
   "execution_count": null,
   "id": "f791ab9a",
   "metadata": {},
   "outputs": [],
   "source": [
    "dt1 = dt.iloc[:,[2,3,4,5,6]] # Select columns by Index\n",
    "\n",
    "new_dataframe = dt1.assign(Mrr = mrr,Mtt=mtt,Mpp=mpp,Mrt=mrt,Mrp=mrp,Mtp=mtp)\n",
    "new_dataframe"
   ]
  },
  {
   "cell_type": "code",
   "execution_count": null,
   "id": "d0872592",
   "metadata": {},
   "outputs": [],
   "source": [
    "dt2 = dt.copy() # Select columns by Index\n",
    "\n",
    "new_dataframe = dt2.assign(Mrr = mrr,Mtt=mtt,Mpp=mpp,Mrt=mrt,Mrp=mrp,Mtp=mtp)\n",
    "new_dataframe= new_dataframe.drop(columns=['x','y','lat','lon'])\n",
    "new_dataframe['x']=utmx\n",
    "new_dataframe['y']=utmy\n",
    "new_dataframe"
   ]
  },
  {
   "cell_type": "code",
   "execution_count": null,
   "id": "d4db3a4d",
   "metadata": {},
   "outputs": [],
   "source": [
    "new_dataframe.to_csv(\"old_fault.csv\")"
   ]
  }
 ],
 "metadata": {
  "kernelspec": {
   "display_name": "Python 3 (ipykernel)",
   "language": "python",
   "name": "python3"
  },
  "language_info": {
   "codemirror_mode": {
    "name": "ipython",
    "version": 3
   },
   "file_extension": ".py",
   "mimetype": "text/x-python",
   "name": "python",
   "nbconvert_exporter": "python",
   "pygments_lexer": "ipython3",
   "version": "3.8.18"
  }
 },
 "nbformat": 4,
 "nbformat_minor": 5
}
